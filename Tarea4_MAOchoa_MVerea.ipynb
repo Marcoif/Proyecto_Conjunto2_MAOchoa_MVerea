{
 "cells": [
  {
   "cell_type": "markdown",
   "metadata": {},
   "source": [
    "<img style=\"float: left; margin: 30px 15px 15px 15px;\" src=\"https://pngimage.net/wp-content/uploads/2018/06/logo-iteso-png-5.png\" width=\"300\" height=\"500\" /> \n",
    "    \n",
    "    \n",
    "### <font color='navy'> Simulación de procesos financieros. \n",
    "\n",
    "**Nombres:** Marco Antonio Ochoa Cárdenas y Mateo Verea Dorantes\n",
    "\n",
    "**Fecha:** 16/09/2021.\n",
    "\n",
    "**Expediente** : if720072 y if709693\n",
    "**Profesor:** Oscar David Jaramillo Zuluaga.\n",
    "    \n",
    "**Link Github**: https://github.com/Marcoif/Proyecto_Conjunto2_MAOchoa_MVerea.git\n",
    "\n",
    "# Tarea 4: Clase 7"
   ]
  },
  {
   "cell_type": "markdown",
   "metadata": {},
   "source": [
    "# Tarea\n",
    "\n",
    "# 1\n",
    "Como ejemplo simple de una simulación de Monte Carlo, considere calcular la probabilidad de una suma particular del lanzamiento de tres dados (cada dado tiene valores del uno al seis). Además cada dado tiene las siguientes carácterísticas: el primer dado no está cargado (distribución uniforme todos son equiprobables); el segundo y tercer dado están cargados basados en una distribución binomial con parámetros (`n=5, p=0.5` y `n=5, p=0.2`). Calcule la probabilidad de que la suma resultante sea 7, 14 o 18. "
   ]
  },
  {
   "cell_type": "markdown",
   "metadata": {},
   "source": [
    "# 2 Ejercicio de aplicación- Cafetería Central\n",
    "\n",
    "Premisas para la simulación:\n",
    "- Negocio de alimentos que vende bebidas y alimentos.\n",
    "- Negocio dentro del ITESO.\n",
    "- Negocio en cafetería central.\n",
    "- Tipo de clientes (hombres y mujeres).\n",
    "- Rentabilidad del 60%.\n",
    "\n",
    "## Objetivo\n",
    "Realizar una simulación estimado el tiempo medio que se tardaran los clientes en ser atendidos entre el horario de 6:30 a 1 pm. Además saber el consumo. \n",
    "**Analizar supuestos y limitantes**\n",
    "\n",
    "## Supuestos en simulación\n",
    "Clasificación de clientes: \n",
    "- Mujer  = 1 $\\longrightarrow$ aleatorio < 0.5\n",
    "- Hombre = 0 $\\longrightarrow$ aleatorio $\\geq$ 0.5.\n",
    "\n",
    "Condiciones iniciales:\n",
    "- Todas las distrubuciones de probabilidad se supondrán uniformes.\n",
    "- Tiempo de simulación: 6:30 am - 1:30pm $\\longrightarrow$ T = 7 horas = 25200 seg.\n",
    "- Tiempo de llegada hasta ser atendido: Min=5seg, Max=30seg.\n",
    "- Tiempo que tardan los clientes en ser atendidos:\n",
    "    - Mujer: Min = 1 min= 60seg, Max = 5 min = 300 seg\n",
    "    - Hombre: Min = 40 seg, Max = 2 min= 120 seg\n",
    "- Consumo según el tipo de cliente:\n",
    "    - Mujer: Min = 30 pesos, Max = 100 pesos\n",
    "    - Hombre: Min = 20 pesos, Max = 80 pesos\n",
    "\n",
    "Responder las siguientes preguntas basados en los datos del problema:\n",
    "1. ¿Cuáles fueron los gastos de los hombres y las mujeres en 5 días de trabajo?.\n",
    "2. ¿Cuál fue el consumo promedio de los hombres y mujeres?\n",
    "3. ¿Cuál fue el número de personas atendidas por día?\n",
    "4. ¿Cuál fue el tiempo de atención promedio?\n",
    "5. ¿Cuánto fue la ganancia promedio de la cafetería en 5 días de trabajo y su respectiva rentabilidad?"
   ]
  },
  {
   "cell_type": "markdown",
   "metadata": {},
   "source": [
    "## Solucion Marco Ochoa (estudiante 1)\n"
   ]
  },
  {
   "cell_type": "code",
   "execution_count": 11,
   "metadata": {},
   "outputs": [],
   "source": [
    "#EJERCICIO 1\n",
    "\n",
    "import numpy as np\n",
    "import scipy.stats as st\n",
    "import matplotlib.pyplot as plt\n",
    "\n",
    "\n",
    "dado1 = np.random.randint(1,7,100000)\n",
    "dado2 = st.binom(n=5,p=0.5, loc=1).rvs(size=100000)\n",
    "dado3 = st.binom(n=5,p=0.2, loc=1).rvs(size=100000)\n",
    "\n",
    "dados_sum = dado1 + dado2 + dado3"
   ]
  },
  {
   "cell_type": "code",
   "execution_count": 12,
   "metadata": {},
   "outputs": [
    {
     "data": {
      "text/plain": [
       "(0.12691, 0.01347, 0.0)"
      ]
     },
     "execution_count": 12,
     "metadata": {},
     "output_type": "execute_result"
    }
   ],
   "source": [
    "prob_7 = len(dados_sum[dados_sum==7])/len(dados_sum)\n",
    "prob_14 = len(dados_sum[dados_sum==14])/len(dados_sum)\n",
    "prob_18 = len(dados_sum[dados_sum==18])/len(dados_sum)\n",
    "prob_7, prob_14, prob_18"
   ]
  },
  {
   "cell_type": "code",
   "execution_count": 21,
   "metadata": {},
   "outputs": [],
   "source": [
    "#EJERCICIO 2\n",
    "\n",
    "d = 5\n",
    "T =25200\n",
    "T_at_min = 5; T_at_max = 30\n",
    "T_mujer_min =60; T_mujer_max = 300\n",
    "T_hombre_min = 40; T_hombre_max = 120\n",
    "C_mujer_min = 30; C_mujer_max = 100\n",
    "C_hombre_min = 20; C_hombre_max = 80\n"
   ]
  },
  {
   "cell_type": "code",
   "execution_count": 22,
   "metadata": {},
   "outputs": [],
   "source": [
    "def persona():\n",
    "    x = np.random.randint(0,2)\n",
    "    if x==1:\n",
    "        return True\n",
    "    else:\n",
    "        return False"
   ]
  },
  {
   "cell_type": "code",
   "execution_count": 23,
   "metadata": {},
   "outputs": [],
   "source": [
    "def iteso():\n",
    "    tiempo = 0 \n",
    "    t=[]\n",
    "    gasto=[]\n",
    "    while tiempo < T:\n",
    "        tiempoAt = np.random.randint(T_at_min ,T_at_max+1)\n",
    "        tiempoW = np.random.randint(T_mujer_min, T_mujer_max+1)\n",
    "        tiempoM = np.random.randint(T_hombre_min, T_hombre_max+1)\n",
    "\n",
    "        if persona():    \n",
    "                t.append(tiempoW+tiempoAt)\n",
    "        else:\n",
    "                t.append(tiempoM+tiempoAt)\n",
    "\n",
    "        tiempo = sum(t)\n",
    "    return t"
   ]
  },
  {
   "cell_type": "code",
   "execution_count": 24,
   "metadata": {},
   "outputs": [],
   "source": [
    "simulacion_f1 = [iteso() for i in range(1000)]\n",
    "\n",
    "clients = [len(simulacion_f1[i]) for i in range(len(simulacion_f1))]\n",
    "clients_prom=sum(clients)/len(clients)"
   ]
  },
  {
   "cell_type": "code",
   "execution_count": 25,
   "metadata": {},
   "outputs": [],
   "source": [
    "def iteso2():\n",
    "    tiempo = 0 \n",
    "    t=[]\n",
    "    gasto=[]\n",
    "    while tiempo < T:\n",
    "        tiempoAt = np.random.randint(T_at_min ,T_at_max+1)\n",
    "        tiempoW = np.random.randint(T_mujer_min, T_mujer_max+1)\n",
    "        tiempoM = np.random.randint(T_hombre_min, T_hombre_max+1)\n",
    "\n",
    "        if persona():    \n",
    "                t.append(tiempoW+tiempoAt)\n",
    "        else:\n",
    "                t.append(tiempoM+tiempoAt)\n",
    "\n",
    "        gastoW = np.random.randint(C_mujer_min, C_mujer_max+1)\n",
    "        gastoM = np.random.randint(C_hombre_min, C_hombre_max+1)\n",
    "        if persona():    \n",
    "            gasto.append(gastoW)\n",
    "        else:\n",
    "            gasto.append(gastoM)\n",
    "        tiempo = sum(t)\n",
    "    return gasto"
   ]
  },
  {
   "cell_type": "code",
   "execution_count": 28,
   "metadata": {},
   "outputs": [],
   "source": [
    "simulacion_f2 = [iteso2() for i in range(1000)]"
   ]
  },
  {
   "cell_type": "code",
   "execution_count": 31,
   "metadata": {},
   "outputs": [
    {
     "name": "stdout",
     "output_type": "stream",
     "text": [
      "el gasto promedio de hombres y mujeres en 5 dias fue de 49380.649999999994\n"
     ]
    }
   ],
   "source": [
    "#1. ¿Cuáles fueron los gastos de los hombres y las mujeres en 5 días de trabajo?.\n",
    "\n",
    "sum_gasto = [sum(simulacion_f2[i]) for i in range(len(simulacion_f2))]\n",
    "gasto_prom = sum(sum_gasto)/len(sum_gasto)\n",
    "gasto_5dias = gasto_prom*d\n",
    "\n",
    "print(\"el gasto promedio de hombres y mujeres en 5 dias fue de\", gasto_5dias)"
   ]
  },
  {
   "cell_type": "code",
   "execution_count": 34,
   "metadata": {},
   "outputs": [
    {
     "name": "stdout",
     "output_type": "stream",
     "text": [
      "El consumo promedio de los hombres y mujeres fue de  57.49858817090991\n"
     ]
    }
   ],
   "source": [
    "#2. ¿Cuál fue el consumo promedio de los hombres y mujeres?\n",
    "\n",
    "gastoWM_FINAL = gasto_prom/clients_prom\n",
    "print(\"El consumo promedio de los hombres y mujeres fue de \",gastoWM_FINAL)"
   ]
  },
  {
   "cell_type": "code",
   "execution_count": 35,
   "metadata": {},
   "outputs": [
    {
     "name": "stdout",
     "output_type": "stream",
     "text": [
      "El número de personas atendidas por día fue de 171.763\n"
     ]
    }
   ],
   "source": [
    "#3. ¿Cuál fue el número de personas atendidas por día?\n",
    "\n",
    "print(\"El número de personas atendidas por día fue de\", clients_prom)"
   ]
  },
  {
   "cell_type": "code",
   "execution_count": 47,
   "metadata": {},
   "outputs": [
    {
     "name": "stdout",
     "output_type": "stream",
     "text": [
      "El tiempo de atención promedio en segundos fue de 147.23054441294107\n"
     ]
    }
   ],
   "source": [
    "#4. ¿Cuál fue el tiempo de atención promedio?\n",
    "\n",
    "AT_time=[sum(simulacion_f1[i]) for i in range(len(simulacion_f1))]\n",
    "prom_time = sum(AT_time)/len(AT_time)\n",
    "final_time = prom_time/clients_prom\n",
    "print(\"El tiempo de atención promedio en segundos fue de\" , final_time)"
   ]
  },
  {
   "cell_type": "code",
   "execution_count": 53,
   "metadata": {},
   "outputs": [
    {
     "name": "stdout",
     "output_type": "stream",
     "text": [
      "La ganancia promedio de la cafeteria en 5 dias fue de  49380.649999999994\n",
      "Y su rentabilidad dado el 60% fue de 29628.389999999996\n"
     ]
    }
   ],
   "source": [
    "#5. ¿Cuánto fue la ganancia promedio de la cafetería en 5 días de trabajo y su respectiva rentabilidad?\n",
    "\n",
    "utilidad= gasto_5dias*.6\n",
    "\n",
    "print(\"La ganancia promedio de la cafeteria en 5 dias fue de \",gasto_5dias)  \n",
    "print(\"Y su rentabilidad dado el 60% fue de\", utilidad)\n"
   ]
  },
  {
   "cell_type": "markdown",
   "metadata": {},
   "source": [
    "## Solucion Matero Verea (estudiante 2)"
   ]
  },
  {
   "cell_type": "code",
   "execution_count": null,
   "metadata": {},
   "outputs": [],
   "source": []
  }
 ],
 "metadata": {
  "kernelspec": {
   "display_name": "Python 3",
   "language": "python",
   "name": "python3"
  },
  "language_info": {
   "codemirror_mode": {
    "name": "ipython",
    "version": 3
   },
   "file_extension": ".py",
   "mimetype": "text/x-python",
   "name": "python",
   "nbconvert_exporter": "python",
   "pygments_lexer": "ipython3",
   "version": "3.8.3"
  }
 },
 "nbformat": 4,
 "nbformat_minor": 4
}
